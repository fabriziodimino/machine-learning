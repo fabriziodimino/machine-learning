{
 "cells": [
  {
   "cell_type": "code",
   "execution_count": 1,
   "id": "897e4d4f",
   "metadata": {},
   "outputs": [],
   "source": [
    "import yfinance as yf\n",
    "import pandas as pd\n",
    "import numpy as np\n",
    "import statsmodels.api as sm\n",
    "from sklearn.discriminant_analysis import LinearDiscriminantAnalysis\n",
    "from sklearn.model_selection import train_test_split\n",
    "from scipy import stats\n",
    "import matplotlib.pyplot as plt"
   ]
  },
  {
   "cell_type": "code",
   "execution_count": 2,
   "id": "1d3fc3a4",
   "metadata": {},
   "outputs": [
    {
     "ename": "HTTPError",
     "evalue": "404 Client Error: Not Found for url: https://query2.finance.yahoo.com/v6/finance/quoteSummary/OXY?modules=financialData&modules=quoteType&modules=defaultKeyStatistics&modules=assetProfile&modules=summaryDetail&ssl=true",
     "output_type": "error",
     "traceback": [
      "\u001b[1;31m---------------------------------------------------------------------------\u001b[0m",
      "\u001b[1;31mHTTPError\u001b[0m                                 Traceback (most recent call last)",
      "Cell \u001b[1;32mIn[2], line 7\u001b[0m\n\u001b[0;32m      5\u001b[0m \u001b[38;5;28;01mfor\u001b[39;00m symbol \u001b[38;5;129;01min\u001b[39;00m energy_symbols:\n\u001b[0;32m      6\u001b[0m     ticker \u001b[38;5;241m=\u001b[39m yf\u001b[38;5;241m.\u001b[39mTicker(symbol)\n\u001b[1;32m----> 7\u001b[0m     info \u001b[38;5;241m=\u001b[39m \u001b[43mticker\u001b[49m\u001b[38;5;241;43m.\u001b[39;49m\u001b[43mget_info\u001b[49m\u001b[43m(\u001b[49m\u001b[43m)\u001b[49m\n\u001b[0;32m      8\u001b[0m     balance \u001b[38;5;241m=\u001b[39m ticker\u001b[38;5;241m.\u001b[39mget_balance_sheet()\n\u001b[0;32m     10\u001b[0m     current_ratio \u001b[38;5;241m=\u001b[39m info\u001b[38;5;241m.\u001b[39mget(\u001b[38;5;124m'\u001b[39m\u001b[38;5;124mcurrentRatio\u001b[39m\u001b[38;5;124m'\u001b[39m, \u001b[38;5;124m'\u001b[39m\u001b[38;5;124mN/A\u001b[39m\u001b[38;5;124m'\u001b[39m)\n",
      "File \u001b[1;32m~\\anaconda3\\lib\\site-packages\\yfinance\\base.py:1736\u001b[0m, in \u001b[0;36mTickerBase.get_info\u001b[1;34m(self, proxy)\u001b[0m\n\u001b[0;32m   1734\u001b[0m \u001b[38;5;28;01mdef\u001b[39;00m \u001b[38;5;21mget_info\u001b[39m(\u001b[38;5;28mself\u001b[39m, proxy\u001b[38;5;241m=\u001b[39m\u001b[38;5;28;01mNone\u001b[39;00m) \u001b[38;5;241m-\u001b[39m\u001b[38;5;241m>\u001b[39m \u001b[38;5;28mdict\u001b[39m:\n\u001b[0;32m   1735\u001b[0m     \u001b[38;5;28mself\u001b[39m\u001b[38;5;241m.\u001b[39m_quote\u001b[38;5;241m.\u001b[39mproxy \u001b[38;5;241m=\u001b[39m proxy\n\u001b[1;32m-> 1736\u001b[0m     data \u001b[38;5;241m=\u001b[39m \u001b[38;5;28;43mself\u001b[39;49m\u001b[38;5;241;43m.\u001b[39;49m\u001b[43m_quote\u001b[49m\u001b[38;5;241;43m.\u001b[39;49m\u001b[43minfo\u001b[49m\n\u001b[0;32m   1737\u001b[0m     \u001b[38;5;28;01mreturn\u001b[39;00m data\n",
      "File \u001b[1;32m~\\anaconda3\\lib\\site-packages\\yfinance\\scrapers\\quote.py:571\u001b[0m, in \u001b[0;36mQuote.info\u001b[1;34m(self)\u001b[0m\n\u001b[0;32m    568\u001b[0m \u001b[38;5;129m@property\u001b[39m\n\u001b[0;32m    569\u001b[0m \u001b[38;5;28;01mdef\u001b[39;00m \u001b[38;5;21minfo\u001b[39m(\u001b[38;5;28mself\u001b[39m) \u001b[38;5;241m-\u001b[39m\u001b[38;5;241m>\u001b[39m \u001b[38;5;28mdict\u001b[39m:\n\u001b[0;32m    570\u001b[0m     \u001b[38;5;28;01mif\u001b[39;00m \u001b[38;5;28mself\u001b[39m\u001b[38;5;241m.\u001b[39m_info \u001b[38;5;129;01mis\u001b[39;00m \u001b[38;5;28;01mNone\u001b[39;00m:\n\u001b[1;32m--> 571\u001b[0m         \u001b[38;5;28;43mself\u001b[39;49m\u001b[38;5;241;43m.\u001b[39;49m\u001b[43m_fetch\u001b[49m\u001b[43m(\u001b[49m\u001b[38;5;28;43mself\u001b[39;49m\u001b[38;5;241;43m.\u001b[39;49m\u001b[43mproxy\u001b[49m\u001b[43m)\u001b[49m\n\u001b[0;32m    572\u001b[0m         \u001b[38;5;28mself\u001b[39m\u001b[38;5;241m.\u001b[39m_fetch_complementary(\u001b[38;5;28mself\u001b[39m\u001b[38;5;241m.\u001b[39mproxy)\n\u001b[0;32m    574\u001b[0m     \u001b[38;5;28;01mreturn\u001b[39;00m \u001b[38;5;28mself\u001b[39m\u001b[38;5;241m.\u001b[39m_info\n",
      "File \u001b[1;32m~\\anaconda3\\lib\\site-packages\\yfinance\\scrapers\\quote.py:600\u001b[0m, in \u001b[0;36mQuote._fetch\u001b[1;34m(self, proxy)\u001b[0m\n\u001b[0;32m    598\u001b[0m modules \u001b[38;5;241m=\u001b[39m [\u001b[38;5;124m'\u001b[39m\u001b[38;5;124mfinancialData\u001b[39m\u001b[38;5;124m'\u001b[39m, \u001b[38;5;124m'\u001b[39m\u001b[38;5;124mquoteType\u001b[39m\u001b[38;5;124m'\u001b[39m, \u001b[38;5;124m'\u001b[39m\u001b[38;5;124mdefaultKeyStatistics\u001b[39m\u001b[38;5;124m'\u001b[39m, \u001b[38;5;124m'\u001b[39m\u001b[38;5;124massetProfile\u001b[39m\u001b[38;5;124m'\u001b[39m, \u001b[38;5;124m'\u001b[39m\u001b[38;5;124msummaryDetail\u001b[39m\u001b[38;5;124m'\u001b[39m]\n\u001b[0;32m    599\u001b[0m params_dict \u001b[38;5;241m=\u001b[39m {\u001b[38;5;124m\"\u001b[39m\u001b[38;5;124mmodules\u001b[39m\u001b[38;5;124m\"\u001b[39m: modules, \u001b[38;5;124m\"\u001b[39m\u001b[38;5;124mssl\u001b[39m\u001b[38;5;124m\"\u001b[39m: \u001b[38;5;124m\"\u001b[39m\u001b[38;5;124mtrue\u001b[39m\u001b[38;5;124m\"\u001b[39m}\n\u001b[1;32m--> 600\u001b[0m result \u001b[38;5;241m=\u001b[39m \u001b[38;5;28;43mself\u001b[39;49m\u001b[38;5;241;43m.\u001b[39;49m\u001b[43m_data\u001b[49m\u001b[38;5;241;43m.\u001b[39;49m\u001b[43mget_raw_json\u001b[49m\u001b[43m(\u001b[49m\n\u001b[0;32m    601\u001b[0m \u001b[43m    \u001b[49m\u001b[43m_BASIC_URL_\u001b[49m\u001b[43m \u001b[49m\u001b[38;5;241;43m+\u001b[39;49m\u001b[43m \u001b[49m\u001b[38;5;124;43mf\u001b[39;49m\u001b[38;5;124;43m\"\u001b[39;49m\u001b[38;5;124;43m/\u001b[39;49m\u001b[38;5;132;43;01m{\u001b[39;49;00m\u001b[38;5;28;43mself\u001b[39;49m\u001b[38;5;241;43m.\u001b[39;49m\u001b[43m_data\u001b[49m\u001b[38;5;241;43m.\u001b[39;49m\u001b[43mticker\u001b[49m\u001b[38;5;132;43;01m}\u001b[39;49;00m\u001b[38;5;124;43m\"\u001b[39;49m\u001b[43m,\u001b[49m\u001b[43m \u001b[49m\u001b[43mparams\u001b[49m\u001b[38;5;241;43m=\u001b[39;49m\u001b[43mparams_dict\u001b[49m\u001b[43m,\u001b[49m\u001b[43m \u001b[49m\u001b[43mproxy\u001b[49m\u001b[38;5;241;43m=\u001b[39;49m\u001b[43mproxy\u001b[49m\n\u001b[0;32m    602\u001b[0m \u001b[43m\u001b[49m\u001b[43m)\u001b[49m\n\u001b[0;32m    603\u001b[0m result[\u001b[38;5;124m\"\u001b[39m\u001b[38;5;124mquoteSummary\u001b[39m\u001b[38;5;124m\"\u001b[39m][\u001b[38;5;124m\"\u001b[39m\u001b[38;5;124mresult\u001b[39m\u001b[38;5;124m\"\u001b[39m][\u001b[38;5;241m0\u001b[39m][\u001b[38;5;124m\"\u001b[39m\u001b[38;5;124msymbol\u001b[39m\u001b[38;5;124m\"\u001b[39m] \u001b[38;5;241m=\u001b[39m \u001b[38;5;28mself\u001b[39m\u001b[38;5;241m.\u001b[39m_data\u001b[38;5;241m.\u001b[39mticker\n\u001b[0;32m    604\u001b[0m query1_info \u001b[38;5;241m=\u001b[39m \u001b[38;5;28mnext\u001b[39m(\n\u001b[0;32m    605\u001b[0m     (info \u001b[38;5;28;01mfor\u001b[39;00m info \u001b[38;5;129;01min\u001b[39;00m result\u001b[38;5;241m.\u001b[39mget(\u001b[38;5;124m\"\u001b[39m\u001b[38;5;124mquoteSummary\u001b[39m\u001b[38;5;124m\"\u001b[39m, {})\u001b[38;5;241m.\u001b[39mget(\u001b[38;5;124m\"\u001b[39m\u001b[38;5;124mresult\u001b[39m\u001b[38;5;124m\"\u001b[39m, []) \u001b[38;5;28;01mif\u001b[39;00m info[\u001b[38;5;124m\"\u001b[39m\u001b[38;5;124msymbol\u001b[39m\u001b[38;5;124m\"\u001b[39m] \u001b[38;5;241m==\u001b[39m \u001b[38;5;28mself\u001b[39m\u001b[38;5;241m.\u001b[39m_data\u001b[38;5;241m.\u001b[39mticker),\n\u001b[0;32m    606\u001b[0m     \u001b[38;5;28;01mNone\u001b[39;00m,\n\u001b[0;32m    607\u001b[0m )\n",
      "File \u001b[1;32m~\\anaconda3\\lib\\site-packages\\yfinance\\data.py:75\u001b[0m, in \u001b[0;36mTickerData.get_raw_json\u001b[1;34m(self, url, user_agent_headers, params, proxy, timeout)\u001b[0m\n\u001b[0;32m     73\u001b[0m \u001b[38;5;28;01mdef\u001b[39;00m \u001b[38;5;21mget_raw_json\u001b[39m(\u001b[38;5;28mself\u001b[39m, url, user_agent_headers\u001b[38;5;241m=\u001b[39m\u001b[38;5;28;01mNone\u001b[39;00m, params\u001b[38;5;241m=\u001b[39m\u001b[38;5;28;01mNone\u001b[39;00m, proxy\u001b[38;5;241m=\u001b[39m\u001b[38;5;28;01mNone\u001b[39;00m, timeout\u001b[38;5;241m=\u001b[39m\u001b[38;5;241m30\u001b[39m):\n\u001b[0;32m     74\u001b[0m     response \u001b[38;5;241m=\u001b[39m \u001b[38;5;28mself\u001b[39m\u001b[38;5;241m.\u001b[39mget(url, user_agent_headers\u001b[38;5;241m=\u001b[39muser_agent_headers, params\u001b[38;5;241m=\u001b[39mparams, proxy\u001b[38;5;241m=\u001b[39mproxy, timeout\u001b[38;5;241m=\u001b[39mtimeout)\n\u001b[1;32m---> 75\u001b[0m     \u001b[43mresponse\u001b[49m\u001b[38;5;241;43m.\u001b[39;49m\u001b[43mraise_for_status\u001b[49m\u001b[43m(\u001b[49m\u001b[43m)\u001b[49m\n\u001b[0;32m     76\u001b[0m     \u001b[38;5;28;01mreturn\u001b[39;00m response\u001b[38;5;241m.\u001b[39mjson()\n",
      "File \u001b[1;32m~\\anaconda3\\lib\\site-packages\\requests\\models.py:1021\u001b[0m, in \u001b[0;36mResponse.raise_for_status\u001b[1;34m(self)\u001b[0m\n\u001b[0;32m   1016\u001b[0m     http_error_msg \u001b[38;5;241m=\u001b[39m (\n\u001b[0;32m   1017\u001b[0m         \u001b[38;5;124mf\u001b[39m\u001b[38;5;124m\"\u001b[39m\u001b[38;5;132;01m{\u001b[39;00m\u001b[38;5;28mself\u001b[39m\u001b[38;5;241m.\u001b[39mstatus_code\u001b[38;5;132;01m}\u001b[39;00m\u001b[38;5;124m Server Error: \u001b[39m\u001b[38;5;132;01m{\u001b[39;00mreason\u001b[38;5;132;01m}\u001b[39;00m\u001b[38;5;124m for url: \u001b[39m\u001b[38;5;132;01m{\u001b[39;00m\u001b[38;5;28mself\u001b[39m\u001b[38;5;241m.\u001b[39murl\u001b[38;5;132;01m}\u001b[39;00m\u001b[38;5;124m\"\u001b[39m\n\u001b[0;32m   1018\u001b[0m     )\n\u001b[0;32m   1020\u001b[0m \u001b[38;5;28;01mif\u001b[39;00m http_error_msg:\n\u001b[1;32m-> 1021\u001b[0m     \u001b[38;5;28;01mraise\u001b[39;00m HTTPError(http_error_msg, response\u001b[38;5;241m=\u001b[39m\u001b[38;5;28mself\u001b[39m)\n",
      "\u001b[1;31mHTTPError\u001b[0m: 404 Client Error: Not Found for url: https://query2.finance.yahoo.com/v6/finance/quoteSummary/OXY?modules=financialData&modules=quoteType&modules=defaultKeyStatistics&modules=assetProfile&modules=summaryDetail&ssl=true"
     ]
    }
   ],
   "source": [
    "energy_symbols = ['OXY', 'XOM', 'BP', 'SNPMF', 'COP', 'E', 'TTE', 'PCCYF', 'SHEL']\n",
    "\n",
    "data_list = []\n",
    "\n",
    "for symbol in energy_symbols:\n",
    "    ticker = yf.Ticker(symbol)\n",
    "    info = ticker.get_info()\n",
    "    balance = ticker.get_balance_sheet()\n",
    "\n",
    "    current_ratio = info.get('currentRatio', 'N/A')\n",
    "    roa = info.get('returnOnAssets', 'N/A')\n",
    "    roe = info.get('returnOnEquity', 'N/A')\n",
    "    long_term_debt = balance.at['LongTermDebt', '2022-12-31']\n",
    "    total_assets = balance.at['TotalAssets', '2022-12-31']\n",
    "    \n",
    "    long_assets = long_term_debt / total_assets\n",
    "\n",
    "    data_list.append({\n",
    "        'Symbol': symbol,\n",
    "        'Current Ratio': current_ratio,\n",
    "        'ROA': roa,\n",
    "        'ROE': roe,\n",
    "        'Long Term Debt': long_term_debt,\n",
    "        'Total Assets': total_assets,\n",
    "        'Long Term Debt / Total Assets': long_assets\n",
    "    })\n",
    "\n",
    "df1 = pd.DataFrame(data_list)"
   ]
  },
  {
   "cell_type": "code",
   "execution_count": null,
   "id": "349b33f3",
   "metadata": {
    "scrolled": true
   },
   "outputs": [],
   "source": [
    "tech_symbols = ['META','AMZN','GOOG', 'NFLX', 'IBM']\n",
    "data_list = []\n",
    "\n",
    "for symbol in tech_symbols:\n",
    "\n",
    "    ticker = yf.Ticker(symbol)\n",
    "    info = ticker.get_info()\n",
    "    balance = ticker.get_balance_sheet()\n",
    "\n",
    "    current_ratio = info.get('currentRatio', 'N/A')\n",
    "    roa = info.get('returnOnAssets', 'N/A')\n",
    "    roe = info.get('returnOnEquity', 'N/A')\n",
    "    long_term_debt = balance.loc['LongTermDebt', '2022-12-31']\n",
    "    total_assets = balance.loc['TotalAssets', '2022-12-31']\n",
    "\n",
    "    long_assets = long_term_debt / total_assets\n",
    "\n",
    "    data_list.append({\n",
    "        'Symbol': symbol,\n",
    "        'Current Ratio': current_ratio,\n",
    "        'ROA': roa,\n",
    "        'ROE': roe,\n",
    "        'Long Term Debt': long_term_debt,\n",
    "        'Total Assets': total_assets,\n",
    "        'Long Term Debt / Total Assets': long_assets\n",
    "    })\n",
    "\n",
    "df2 = pd.DataFrame(data_list)"
   ]
  },
  {
   "cell_type": "code",
   "execution_count": null,
   "id": "139427d7",
   "metadata": {},
   "outputs": [],
   "source": [
    "tech_symbols1 = ['AAPL']\n",
    "data_list = []\n",
    "\n",
    "for symbol in tech_symbols1:\n",
    "    ticker = yf.Ticker(symbol)\n",
    "    info = ticker.get_info()\n",
    "    balance = ticker.get_balance_sheet()\n",
    "\n",
    "    current_ratio = info.get('currentRatio', 'N/A')\n",
    "    roa = info.get('returnOnAssets', 'N/A')\n",
    "    roe = info.get('returnOnEquity', 'N/A')\n",
    "    long_term_debt = balance.at['LongTermDebt', '2022-09-30']\n",
    "    total_assets = balance.at['TotalAssets', '2022-09-30']\n",
    "\n",
    "    long_assets = long_term_debt / total_assets\n",
    "\n",
    "    data_list.append({\n",
    "        'Symbol': symbol,\n",
    "        'Current Ratio': current_ratio,\n",
    "        'ROA': roa,\n",
    "        'ROE': roe,\n",
    "        'Long Term Debt': long_term_debt,\n",
    "        'Total Assets': total_assets,\n",
    "        'Long Term Debt / Total Assets': long_assets\n",
    "    })\n",
    "\n",
    "df3 = pd.DataFrame(data_list)"
   ]
  },
  {
   "cell_type": "code",
   "execution_count": null,
   "id": "8be5ba1f",
   "metadata": {},
   "outputs": [],
   "source": [
    "tech_symbols1 = ['MSFT']\n",
    "data_list = []\n",
    "\n",
    "for symbol in tech_symbols1:\n",
    "    ticker = yf.Ticker(symbol)\n",
    "    info = ticker.get_info()\n",
    "    balance = ticker.get_balance_sheet()\n",
    "\n",
    "    current_ratio = info.get('currentRatio', 'N/A')\n",
    "    roa = info.get('returnOnAssets', 'N/A')\n",
    "    roe = info.get('returnOnEquity', 'N/A')\n",
    "    long_term_debt = balance.at['LongTermDebt', '2023-06-30']\n",
    "    total_assets = balance.at['TotalAssets', '2023-06-30']\n",
    "\n",
    "    long_assets = long_term_debt / total_assets\n",
    "\n",
    "    data_list.append({\n",
    "        'Symbol': symbol,\n",
    "        'Current Ratio': current_ratio,\n",
    "        'ROA': roa,\n",
    "        'ROE': roe,\n",
    "        'Long Term Debt': long_term_debt,\n",
    "        'Total Assets': total_assets,\n",
    "        'Long Term Debt / Total Assets': long_assets\n",
    "    })\n",
    "\n",
    "df4 = pd.DataFrame(data_list)"
   ]
  },
  {
   "cell_type": "code",
   "execution_count": null,
   "id": "04173e18",
   "metadata": {
    "scrolled": true
   },
   "outputs": [],
   "source": [
    "combined_listings = pd.concat([df1, df2,df3,df4]) \n",
    "combined_listings['Sector']=['Energy'] * 9 + ['Tech'] * 7\n",
    "print(combined_listings)"
   ]
  },
  {
   "cell_type": "code",
   "execution_count": null,
   "id": "96405c4c",
   "metadata": {},
   "outputs": [],
   "source": [
    "X = combined_listings[['Current Ratio', 'ROA', 'ROE', 'Long Term Debt / Total Assets']]\n",
    "y = combined_listings['Sector'] "
   ]
  },
  {
   "cell_type": "code",
   "execution_count": null,
   "id": "2a8e5480",
   "metadata": {},
   "outputs": [],
   "source": [
    "lda = LinearDiscriminantAnalysis()\n",
    "model= lda.fit(X, y)"
   ]
  },
  {
   "cell_type": "code",
   "execution_count": null,
   "id": "3ea62ddc",
   "metadata": {},
   "outputs": [],
   "source": [
    "accuracy = lda.score(X, y)\n",
    "print(f'Accuracy: {accuracy}')\n",
    "coefficients = lda.coef_\n",
    "intercept = lda.intercept_\n",
    "print(f'Coefficients: {coefficients}')\n",
    "print(f'Intercept: {intercept}')\n",
    "explained_variance_ratios = lda.explained_variance_ratio_\n",
    "print(\"Explained Variance Ratios:\", explained_variance_ratios)"
   ]
  },
  {
   "cell_type": "markdown",
   "id": "a57a6cf2",
   "metadata": {},
   "source": [
    "# The accuracy of the discriminant analysis model is 81.25%. This means that the model is able to correctly classify 81.25% of the samples in the dataset. The larger coefficients and higher explained variance ratios will suggest the variables with the best discriminative ability. So, in absolute value, ROA has the highest discriminative ability, followed by long-term debt/total assets. The explained variance ratio is 1. This suggests that the first discriminant explains all the variance in the data. This is partly because you have only two groups, so the first discriminant is able to capture all the information needed to separate them.\n"
   ]
  },
  {
   "cell_type": "code",
   "execution_count": null,
   "id": "df41286c",
   "metadata": {},
   "outputs": [],
   "source": [
    "from itertools import combinations\n",
    "\n",
    "factor_combinations = list(combinations(['Current Ratio', 'ROA', 'ROE', 'Long Term Debt / Total Assets'], 2))\n",
    "\n",
    "best_accuracy = 0\n",
    "best_factors = None\n",
    "\n",
    "for factors in factor_combinations:\n",
    "    X = combined_listings[list(factors)]\n",
    "    lda = LinearDiscriminantAnalysis()\n",
    "    lda.fit(X, y)\n",
    "    accuracy = lda.score(X, y)\n",
    "    coefficients = lda.coef_\n",
    "    \n",
    "    if accuracy > best_accuracy:\n",
    "        best_accuracy = accuracy\n",
    "        best_factors = factors\n",
    "\n",
    "print(f\"The best pair of factors is {best_factors} with an accuracy of {best_accuracy}\")"
   ]
  },
  {
   "cell_type": "code",
   "execution_count": null,
   "id": "46b16095",
   "metadata": {},
   "outputs": [],
   "source": [
    "best_coefficients = None\n",
    "best_factors = None\n",
    "\n",
    "for factors in factor_combinations:\n",
    "    X = combined_listings[list(factors)]\n",
    "    lda = LinearDiscriminantAnalysis()\n",
    "    lda.fit(X, y)\n",
    "    \n",
    "    if best_coefficients is None or abs(lda.coef_[0]).sum() > abs(best_coefficients).sum():\n",
    "        best_coefficients = lda.coef_[0]\n",
    "        best_factors = factors\n",
    "\n",
    "print(f\"The best pair of factors is {best_factors} with coefficients {best_coefficients}\")"
   ]
  }
 ],
 "metadata": {
  "kernelspec": {
   "display_name": "Python 3 (ipykernel)",
   "language": "python",
   "name": "python3"
  },
  "language_info": {
   "codemirror_mode": {
    "name": "ipython",
    "version": 3
   },
   "file_extension": ".py",
   "mimetype": "text/x-python",
   "name": "python",
   "nbconvert_exporter": "python",
   "pygments_lexer": "ipython3",
   "version": "3.10.9"
  }
 },
 "nbformat": 4,
 "nbformat_minor": 5
}
