{
 "cells": [
  {
   "cell_type": "code",
   "execution_count": 33,
   "id": "abe040a7",
   "metadata": {},
   "outputs": [
    {
     "name": "stdout",
     "output_type": "stream",
     "text": [
      "Output: 0.21994237886274745\n"
     ]
    }
   ],
   "source": [
    "import numpy as np\n",
    "\n",
    "Z = 9\n",
    "W1 = 0.5\n",
    "b1 = 1\n",
    "W2 = 0.5 + 9/10\n",
    "b2 = 1\n",
    "\n",
    "# Input\n",
    "x = 9 / 10\n",
    "\n",
    "# Sigmoid activation function\n",
    "def sigmoid(x):\n",
    "    return 1 / (1 + np.exp(x))\n",
    "\n",
    "# Feed Forward\n",
    "hidden_input = W1 * x + b1\n",
    "hidden_output = sigmoid(hidden_input)\n",
    "final_input = W2 * hidden_output + b2\n",
    "output = sigmoid(final_input)\n",
    "\n",
    "print(\"Output:\", output)\n"
   ]
  },
  {
   "cell_type": "code",
   "execution_count": 34,
   "id": "76d3bdf4",
   "metadata": {},
   "outputs": [],
   "source": [
    "target_output = x**2 / 2 + Z / 10\n",
    "\n",
    "# Mean Squared Error\n",
    "mse = (target_output - output)**2 \n"
   ]
  },
  {
   "cell_type": "code",
   "execution_count": 32,
   "id": "b9ba49d2",
   "metadata": {
    "scrolled": true
   },
   "outputs": [
    {
     "data": {
      "text/plain": [
       "1.1773500411880338"
      ]
     },
     "execution_count": 32,
     "metadata": {},
     "output_type": "execute_result"
    }
   ],
   "source": [
    "mse"
   ]
  },
  {
   "cell_type": "code",
   "execution_count": 21,
   "id": "ac21cfb8",
   "metadata": {},
   "outputs": [],
   "source": [
    "m = (261/200 - 0.219)**2"
   ]
  },
  {
   "cell_type": "code",
   "execution_count": 22,
   "id": "f39d8a86",
   "metadata": {},
   "outputs": [
    {
     "data": {
      "text/plain": [
       "1.1793959999999997"
      ]
     },
     "execution_count": 22,
     "metadata": {},
     "output_type": "execute_result"
    }
   ],
   "source": [
    "m"
   ]
  },
  {
   "cell_type": "code",
   "execution_count": 23,
   "id": "12629f0b",
   "metadata": {},
   "outputs": [],
   "source": [
    "learning_rate = 0.1\n",
    "\n",
    "# Backpropagation to calculate gradients\n",
    "error = output - target_output\n",
    "delta_output = 2 * error * output * (1 - output)\n",
    "delta_hidden = delta_output * W2 * hidden_output * (1 - hidden_output)\n",
    "\n",
    "# Update weights and biases\n",
    "W2 -= learning_rate * delta_output * hidden_output\n",
    "b2 -= learning_rate * delta_output\n",
    "\n",
    "W1 -= learning_rate * delta_hidden * x\n",
    "b1 -= learning_rate * delta_hidden\n"
   ]
  },
  {
   "cell_type": "code",
   "execution_count": 27,
   "id": "28ca464b",
   "metadata": {},
   "outputs": [
    {
     "data": {
      "text/plain": [
       "1.037232174344449"
      ]
     },
     "execution_count": 27,
     "metadata": {},
     "output_type": "execute_result"
    }
   ],
   "source": [
    "b2"
   ]
  }
 ],
 "metadata": {
  "kernelspec": {
   "display_name": "Python 3 (ipykernel)",
   "language": "python",
   "name": "python3"
  },
  "language_info": {
   "codemirror_mode": {
    "name": "ipython",
    "version": 3
   },
   "file_extension": ".py",
   "mimetype": "text/x-python",
   "name": "python",
   "nbconvert_exporter": "python",
   "pygments_lexer": "ipython3",
   "version": "3.10.9"
  }
 },
 "nbformat": 4,
 "nbformat_minor": 5
}
